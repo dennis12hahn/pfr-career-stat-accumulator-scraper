{
 "metadata": {
  "language_info": {
   "codemirror_mode": {
    "name": "ipython",
    "version": 3
   },
   "file_extension": ".py",
   "mimetype": "text/x-python",
   "name": "python",
   "nbconvert_exporter": "python",
   "pygments_lexer": "ipython3",
   "version": "3.8.5"
  },
  "orig_nbformat": 2,
  "kernelspec": {
   "name": "python385jvsc74a57bd0eaee1cdb47ad29f220f30c120e03416375ce493e6246058b88e04a2c66a886a3",
   "display_name": "Python 3.8.5 64-bit ('base': conda)"
  },
  "metadata": {
   "interpreter": {
    "hash": "ac59ebe37160ed0dfa835113d9b8498d9f09ceb179beaac4002f036b9467c963"
   }
  }
 },
 "nbformat": 4,
 "nbformat_minor": 2,
 "cells": [
  {
   "cell_type": "code",
   "execution_count": 1,
   "metadata": {},
   "outputs": [],
   "source": [
    "import pandas as pd\n",
    "import copy\n",
    "import datetime"
   ]
  },
  {
   "cell_type": "code",
   "execution_count": 2,
   "metadata": {},
   "outputs": [],
   "source": [
    "# pull receiving stats by year into list of dataframes\n",
    "# each year has its own dataframe\n",
    "\n",
    "receiving_dfs = []\n",
    "\n",
    "# stat_type can be one of the following\n",
    "# passing, rushing, receiving, scrimmage, defense, returns (doesn't start until 1941), or scoring\n",
    "\n",
    "stat_type = 'receiving'\n",
    "\n",
    "start_year = 1932\n",
    "if stat_type == 'returns':\n",
    "    start_year = max(1941, start_year)\n",
    "else:\n",
    "    start_year = max(1932, start_year)\n",
    "\n",
    "current_year = datetime.datetime.now().year\n",
    "# earliest year for stats on pfr\n",
    "\n",
    "num_years = current_year - start_year\n",
    "\n",
    "for i in range(start_year, current_year):\n",
    "    url = 'https://www.pro-football-reference.com/years/{}/{}.htm'\n",
    "    receiving_dfs.append(pd.read_html(url.format(i, stat_type))[0])"
   ]
  },
  {
   "cell_type": "code",
   "execution_count": 3,
   "metadata": {},
   "outputs": [],
   "source": [
    "# clean player names in every dataframe\n",
    "\n",
    "for i in range(0, num_years):\n",
    "    receiving_dfs[i]['Player'] = receiving_dfs[i]['Player'].replace(to_replace='[*+]+', value='', regex=True)\n",
    "    receiving_dfs[i]['Player'] = receiving_dfs[i]['Player'].map(lambda x: x.strip())"
   ]
  },
  {
   "cell_type": "code",
   "execution_count": 4,
   "metadata": {
    "tags": []
   },
   "outputs": [],
   "source": [
    "# making a copy of all receiving dataframes before selecting individual stats\n",
    "\n",
    "receiving_dfs_original = copy.deepcopy(receiving_dfs)"
   ]
  },
  {
   "cell_type": "code",
   "execution_count": 5,
   "metadata": {},
   "outputs": [],
   "source": [
    "# drop all columns i'm not going to use\n",
    "\n",
    "for i in range(0, num_years):\n",
    "    df = receiving_dfs[i]\n",
    "    df.drop(df.columns.difference(['Player', 'Rec']), 1, inplace=True)\n",
    "    df.set_index('Player', inplace=True)"
   ]
  },
  {
   "cell_type": "code",
   "execution_count": 6,
   "metadata": {},
   "outputs": [],
   "source": [
    "# create master dataframe\n",
    "# index = player name\n",
    "# column for every year from 1932 to 2020\n",
    "# each column will represent rec for that year\n",
    "\n",
    "master_df = pd.DataFrame(columns=[x for x in range(start_year, current_year)])\n",
    "master_df.insert(0, 'Player', '')\n",
    "master_df.insert(1, 'image', '')\n",
    "master_df.set_index('Player', inplace=True)"
   ]
  },
  {
   "cell_type": "code",
   "execution_count": 7,
   "metadata": {
    "tags": []
   },
   "outputs": [],
   "source": [
    "# create set of all players\n",
    "\n",
    "all_players = set()\n",
    "for i in range(0, num_years):\n",
    "    for j in receiving_dfs[i].index:\n",
    "        all_players.add(j)"
   ]
  },
  {
   "cell_type": "code",
   "execution_count": 8,
   "metadata": {
    "tags": []
   },
   "outputs": [],
   "source": [
    "# dictionary\n",
    "# key = player name\n",
    "# value = list of each year of recs\n",
    "\n",
    "dictionary = {}\n",
    "\n",
    "for i in all_players:\n",
    "    dictionary[i] = [0] * num_years\n",
    "\n",
    "# build dictionary through each year\n",
    "for i in range(0, num_years):\n",
    "    for row in receiving_dfs[i].iterrows():\n",
    "        player_name = row[0]\n",
    "        rec = row[1][0]\n",
    "\n",
    "        if rec == 'Rec' or player_name == 'Player':\n",
    "            continue\n",
    "\n",
    "        dictionary[player_name][i] = int(rec)"
   ]
  },
  {
   "cell_type": "code",
   "execution_count": 9,
   "metadata": {
    "tags": []
   },
   "outputs": [],
   "source": [
    "# extend accumulated values once no more values are being added\n",
    "\n",
    "for key in dictionary.keys():\n",
    "    lst = dictionary[key]\n",
    "\n",
    "    for i in range(len(lst)):\n",
    "        if i > 0:\n",
    "            lst[i] += lst[i-1]"
   ]
  },
  {
   "cell_type": "code",
   "execution_count": 10,
   "metadata": {},
   "outputs": [],
   "source": [
    "# finalize dictionary to dataframe\n",
    "\n",
    "df_final = pd.DataFrame.from_dict(dictionary).transpose()\n",
    "\n",
    "new_list = [x for x in range(start_year, current_year)]\n",
    "df_final.columns = df_final.columns[:0].tolist() + new_list"
   ]
  },
  {
   "cell_type": "code",
   "execution_count": 11,
   "metadata": {
    "tags": []
   },
   "outputs": [],
   "source": [
    "players = set()\n",
    "\n",
    "for i in range(start_year, current_year):\n",
    "    current = df_final.sort_values(by=i, ascending=False)\n",
    "    lst = current.head(10).index.values.tolist()\n",
    "    players.update(lst)"
   ]
  },
  {
   "cell_type": "code",
   "execution_count": 13,
   "metadata": {},
   "outputs": [
    {
     "output_type": "stream",
     "name": "stdout",
     "text": [
      "87 97 Raymond Berry"
     ]
    }
   ],
   "source": [
    "import bs4\n",
    "import urllib\n",
    "import re\n",
    "import sys\n",
    "import time\n",
    "from socket import timeout\n",
    "# add column for player images\n",
    "# names with '.' or \"'\" will be replaced by '-'\n",
    "# spaces replaced by '-'\n",
    "# example: D.J. Moore will be d-j-moore\n",
    "# note: some names on pfr don't have a '.' like DJ Chark\n",
    "# jr is not used\n",
    "# players with same name will have first-last-2 after the first player\n",
    "\n",
    "i = 0\n",
    "n = len(players)\n",
    "for player in players:\n",
    "    name = player\n",
    "    name = name.lower()\n",
    "    name = re.sub('[\\'. ]', '-', name)\n",
    "    name = re.sub('jr|jr.', '', name)\n",
    "    name = re.sub('-{2,}', '-', name)\n",
    "    name = re.sub('-$|^-', '', name)\n",
    "    link = 'https://www.nfl.com/players/{}/'.format(name)\n",
    "\n",
    "    try:\n",
    "        doc = urllib.request.urlopen(link, timeout=3).read().decode('utf-8')\n",
    "    except (urllib.error.HTTPError, urllib.error.URLError) as error:\n",
    "        continue\n",
    "    except timeout:\n",
    "        continue\n",
    "    \n",
    "    soup = bs4.BeautifulSoup(doc)\n",
    "    try:\n",
    "        src = soup.select('#main-content > div > div > div > figure.nfl-c-player-header__headshot > picture > img')[0]['src']\n",
    "    except IndexError:\n",
    "        continue\n",
    "    \n",
    "    src = re.sub('t_lazy/', '', src)\n",
    "    df_final.loc[player, 'image'] = src\n",
    "    i += 1\n",
    "    sys.stdout.write(\"\\r{} {} {}\".format(i,n,player))\n",
    "    sys.stdout.flush()"
   ]
  },
  {
   "cell_type": "code",
   "execution_count": 14,
   "metadata": {},
   "outputs": [],
   "source": [
    "df_final = df_final[['image'] + [col for col in df_final.columns if col != 'image']]\n",
    "df_final.to_csv('out.csv')"
   ]
  },
  {
   "cell_type": "code",
   "execution_count": 15,
   "metadata": {},
   "outputs": [
    {
     "output_type": "stream",
     "name": "stdout",
     "text": [
      "Red Grange\nCarl Brumbaugh\nBilly Howton\nKyle Rote\nFrank Gifford\nCharley Malone\nAndre Reed\nElroy Hirsch\nTommy McDonald\nJohnny Blood\nPete Retzlaff\nMarvin Harrison\nHugh Taylor\nMilt Gantenbein\nTony Gonzalez\nDick Todd\nJim Keane\nMal Kutner\nLarry Centers\nJimmy Smith\nMike Ditka\nErnie Caddel\nLarry Fitzgerald\nHarry Ebding\nTom Fears\nJim Benton\nElbie Nickel\nGaynell Tinsley\nKeenan McCardell\nPerry Schwartz\nRed Badgro\nAnquan Boldin\nGary Clark\nBobby Mitchell\nPaul Riblett\nArt Monk\nDante Lavelli\nAhmad Rashad\nBobby Joe Conrad\nReggie Wayne\nBob Mann\nAndre Johnson\nJackie Smith\nRay Flaherty\nBobby Walston\nRed Phillips\nKellen Winslow\nCarroll Dale\nJames Lofton\nRandy Moss\nDutch Clark\nRay McLean\nIrving Fryar\nDon Hutson\nHarold Jackson\nLavvie Dilweg\nSteve Largent\nShipwreck Kelly\nBill Sortet\nDrew Pearson\nBill Hewitt\nCharley Taylor\nOzzie Newsome\nHenry Ellard\nDale Burnett\nCris Carter\nWes Chandler\nHarold Carmichael\nBill Smith\nLuke Johnsos\nCliff Branch\nBoyd Dowler\nGeorge Wilson\nJohn Greene\nBilly Dewell\nDrew Hill\nPete Pihos\nCharlie Joiner\nHines Ward\nTim Brown\nRoger Grove\nJason Witten\nBilly Wilson\nWayne Millner\nTerrell Owens\nGordie Soltau\nBob Masterson\nJerry Rice\nShannon Sharpe\nIsaac Bruce\nJoe Carter\nKen Kavanaugh\nRoy Jefferson\nJack Ferrante\nWard Cuff\nMichael Irvin\nRaymond Berry\n"
     ]
    }
   ],
   "source": [
    "for player in players:\n",
    "    print(player)"
   ]
  },
  {
   "cell_type": "code",
   "execution_count": null,
   "metadata": {},
   "outputs": [],
   "source": []
  }
 ]
}